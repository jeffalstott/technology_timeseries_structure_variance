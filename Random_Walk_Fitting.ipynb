{
 "cells": [
  {
   "cell_type": "code",
   "execution_count": 2,
   "metadata": {
    "collapsed": false
   },
   "outputs": [
    {
     "name": "stdout",
     "output_type": "stream",
     "text": [
      "Populating the interactive namespace from numpy and matplotlib\n"
     ]
    }
   ],
   "source": [
    "import pandas as pd\n",
    "import seaborn as sns\n",
    "import pystan\n",
    "%pylab inline"
   ]
  },
  {
   "cell_type": "code",
   "execution_count": 3,
   "metadata": {
    "collapsed": false
   },
   "outputs": [],
   "source": [
    "df = pd.read_csv('HPITPdata.csv', index_col=0)\n",
    "\n",
    "df = df.iloc[2:]"
   ]
  },
  {
   "cell_type": "code",
   "execution_count": 74,
   "metadata": {
    "collapsed": true
   },
   "outputs": [],
   "source": [
    "arma_model_code = \"\"\"\n",
    "data { \n",
    "int<lower=1> T; \n",
    "real y[T];\n",
    "}\n",
    "\n",
    "parameters { \n",
    "real mu; \n",
    "//real phi;\n",
    "real<lower=-1,upper=1> theta; \n",
    "real<lower=0> sigma; \n",
    "} \n",
    "\n",
    "transformed parameters{\n",
    "real K;\n",
    "K <- sqrt( (1+theta^2) * sigma^2 );\n",
    "}\n",
    "\n",
    "model {\n",
    "real err; \n",
    "mu ~ normal(0,10); \n",
    "theta ~ uniform(-1,1); //normal(0,2); \n",
    "sigma ~ cauchy(0,5); \n",
    "err <- y[1] - 2*mu; \n",
    "err ~ normal(0,sigma); \n",
    "for (t in 2:T){ \n",
    "    err <- y[t] - (mu + y[t-1] + theta * err); \n",
    "    err ~ normal(0,sigma);\n",
    "    }\n",
    "}\n",
    "\"\"\"\n",
    "\n",
    "# model {\n",
    "# vector[T] nu; // prediction for time t\n",
    "# vector[T] err; // error for time t\n",
    " \n",
    "# nu[1] <- mu + phi * mu; // assume err[0] == 0 \n",
    "# err[1] <- y[1] - nu[1]; \n",
    "# for (t in 2:T) { \n",
    "#     nu[t] <- mu + phi * y[t-1] + theta * err[t-1]; \n",
    "#     err[t] <- y[t] - nu[t];\n",
    "#     } \n",
    "\n",
    "# mu ~ normal(0,10); // priors\n",
    "# phi ~ normal(0,2); \n",
    "# theta ~ normal(0,2); \n",
    "# sigma ~ cauchy(0,5); \n",
    "# err ~ normal(0,sigma); // likelihood\n",
    "# }"
   ]
  },
  {
   "cell_type": "code",
   "execution_count": 75,
   "metadata": {
    "collapsed": false
   },
   "outputs": [],
   "source": [
    "arma_model = pystan.StanModel(model_code=arma_model_code)"
   ]
  },
  {
   "cell_type": "code",
   "execution_count": 76,
   "metadata": {
    "collapsed": true
   },
   "outputs": [],
   "source": [
    "col = 'DNA Sequencing'\n",
    "d = df[col].dropna().values.astype('float')\n",
    "data = {'y':log(d),\n",
    "   'T':len(d)}\n",
    "fit = arma_model.sampling(data=data)"
   ]
  },
  {
   "cell_type": "code",
   "execution_count": 77,
   "metadata": {
    "collapsed": false
   },
   "outputs": [
    {
     "name": "stdout",
     "output_type": "stream",
     "text": [
      "AcrylicFiber\n",
      "Acrylonitrile\n",
      "Aluminum\n",
      "Ammonia\n",
      "Aniline\n",
      "Automotive (US)\n",
      "Beer (Japan)\n",
      "Benzene\n",
      "BisphenolA\n",
      "Caprolactam\n",
      "CarbonBlack\n",
      "CarbonDisulfide\n",
      "CCGT Power\n",
      "Concentrating Solar\n",
      "Corn (US)\n",
      "Crude Oil\n",
      "Cyclohexane\n",
      "DNA Sequencing\n",
      "DRAM\n",
      "Electric Range\n",
      "Ethanol (Brazil)\n",
      "Ethanolamine\n",
      "Ethylene\n",
      "Formaldehyde\n",
      "Free Standing Gas Range\n",
      "Geothermal Electricity\n",
      "Hard Disk Drive\n",
      "HydrofluoricAcid\n",
      "IsopropylAlcohol\n",
      "Laser Diode\n",
      "Low Density Polyethylene\n",
      "Magnesium\n",
      "MaleicAnhydride\n",
      "Methanol\n",
      "Milk (US)\n",
      "Monochrome Television\n",
      "Motor Gasoline\n",
      "NeopreneRubber\n",
      "Nuclear Electricity\n",
      "Onshore Gas Pipeline\n",
      "Paraxylene\n",
      "Pentaerythritol\n",
      "Phenol\n",
      "Photovoltaics\n",
      "PhthalicAnhydride\n",
      "PolyesterFiber\n",
      "PolyethyleneHD\n",
      "PolyethyleneLD\n",
      "Polypropylene\n",
      "Polystyrene\n",
      "Polyvinylchloride\n",
      "Primary Aluminum\n",
      "Primary Magnesium\n",
      "Refined Cane Sugar\n",
      "Sodium\n",
      "SodiumChlorate\n",
      "SodiumHydrosulfite\n",
      "Sorbitol\n",
      "Styrene\n",
      "Titanium Sponge\n",
      "Titanium Dioxide\n",
      "Transistor\n",
      "Urea\n",
      "VinylAcetate\n",
      "VinylChloride\n",
      "Wind Turbine (Denmark)\n"
     ]
    }
   ],
   "source": [
    "random_walk_parameters = pd.DataFrame(columns=['mu', 'K', 'theta', 'sigma'], dtype='float')\n",
    "\n",
    "for col in df.columns:\n",
    "    print(col)\n",
    "    d = df[col].dropna().values.astype('float')\n",
    "    data = {'y':log(d)/3,\n",
    "       'T':len(d)}\n",
    "    fit = arma_model.sampling(data=data)\n",
    "    random_walk_parameters.ix[col, 'mu'] = fit['mu'].mean()\n",
    "    random_walk_parameters.ix[col, 'K'] = fit['K'].mean()\n",
    "    random_walk_parameters.ix[col, 'theta'] = fit['theta'].mean()\n",
    "    random_walk_parameters.ix[col, 'sigma'] = fit['sigma'].mean()\n",
    "# random_walk_parameters = random_walk_parameters.astype('float')"
   ]
  },
  {
   "cell_type": "code",
   "execution_count": 78,
   "metadata": {
    "collapsed": false
   },
   "outputs": [],
   "source": [
    "# K = 0.24\n",
    "# theta = 0.19\n",
    "# sqrt(K**2/(1+theta**2))\n",
    "\n",
    "# sqrt((1+theta**2)*.24**2)"
   ]
  },
  {
   "cell_type": "code",
   "execution_count": 83,
   "metadata": {
    "collapsed": false
   },
   "outputs": [
    {
     "data": {
      "text/plain": [
       "<matplotlib.text.Text at 0x2ae2ed3009b0>"
      ]
     },
     "execution_count": 83,
     "metadata": {},
     "output_type": "execute_result"
    },
    {
     "data": {
      "image/png": "[encoded data removed]",
      "text/plain": [
       "<matplotlib.figure.Figure at 0x2ae2d071fe48>"
      ]
     },
     "metadata": {},
     "output_type": "display_data"
    },
    {
     "data": {
      "image/png": "[encoded data removed]",
      "text/plain": [
       "<matplotlib.figure.Figure at 0x2ae2ed223048>"
      ]
     },
     "metadata": {},
     "output_type": "display_data"
    },
    {
     "data": {
      "image/png": "[encoded data removed]",
      "text/plain": [
       "<matplotlib.figure.Figure at 0x2ae2ed234ac8>"
      ]
     },
     "metadata": {},
     "output_type": "display_data"
    },
    {
     "data": {
      "image/png": "[encoded data removed]",
      "text/plain": [
       "<matplotlib.figure.Figure at 0x2ae2ecec14a8>"
      ]
     },
     "metadata": {},
     "output_type": "display_data"
    }
   ],
   "source": [
    "random_walk_parameters['mu'].hist(bins=50)\n",
    "plot((0,0), ylim(), 'k--')\n",
    "title(\"Mu\")\n",
    "figure()\n",
    "random_walk_parameters['K'].hist(bins=50)\n",
    "title(\"K\")\n",
    "figure()\n",
    "random_walk_parameters['sigma'].hist(bins=50)\n",
    "title(\"sigma\")\n",
    "figure()\n",
    "random_walk_parameters['theta'].hist(bins=50)\n",
    "title(\"theta\")"
   ]
  },
  {
   "cell_type": "code",
   "execution_count": 80,
   "metadata": {
    "collapsed": false
   },
   "outputs": [],
   "source": [
    "random_walk_log_parameters = log10(random_walk_parameters)"
   ]
  },
  {
   "cell_type": "code",
   "execution_count": 84,
   "metadata": {
    "collapsed": false
   },
   "outputs": [
    {
     "data": {
      "text/plain": [
       "<matplotlib.axes._subplots.AxesSubplot at 0x2ae2ef1eb048>"
      ]
     },
     "execution_count": 84,
     "metadata": {},
     "output_type": "execute_result"
    },
    {
     "data": {
      "image/png": "[encoded data removed]",
      "text/plain": [
       "<matplotlib.figure.Figure at 0x2ae2e34a3978>"
      ]
     },
     "metadata": {},
     "output_type": "display_data"
    },
    {
     "data": {
      "text/plain": [
       "<matplotlib.figure.Figure at 0x2ae2d0b75a58>"
      ]
     },
     "metadata": {},
     "output_type": "display_data"
    },
    {
     "data": {
      "image/png": "[encoded data removed]",
      "text/plain": [
       "<matplotlib.figure.Figure at 0x2ae2ef1d2470>"
      ]
     },
     "metadata": {},
     "output_type": "display_data"
    }
   ],
   "source": [
    "random_walk_parameters.plot('mu', 'sigma', kind='scatter')\n",
    "figure()\n",
    "random_walk_log_parameters.plot('mu', 'sigma', kind='scatter')"
   ]
  },
  {
   "cell_type": "code",
   "execution_count": 81,
   "metadata": {
    "collapsed": false
   },
   "outputs": [
    {
     "data": {
      "text/plain": [
       "<matplotlib.axes._subplots.AxesSubplot at 0x2ae2d0a3f6d8>"
      ]
     },
     "execution_count": 81,
     "metadata": {},
     "output_type": "execute_result"
    },
    {
     "data": {
      "image/png": "[encoded data removed]",
      "text/plain": [
       "<matplotlib.figure.Figure at 0x2ae2e3235898>"
      ]
     },
     "metadata": {},
     "output_type": "display_data"
    },
    {
     "data": {
      "text/plain": [
       "<matplotlib.figure.Figure at 0x2ae2fc00f4e0>"
      ]
     },
     "metadata": {},
     "output_type": "display_data"
    },
    {
     "data": {
      "image/png": "[encoded data removed]",
      "text/plain": [
       "<matplotlib.figure.Figure at 0x2ae2d0b420f0>"
      ]
     },
     "metadata": {},
     "output_type": "display_data"
    }
   ],
   "source": [
    "random_walk_parameters.plot('mu', 'K', kind='scatter')\n",
    "figure()\n",
    "random_walk_log_parameters.plot('mu', 'K', kind='scatter')"
   ]
  },
  {
   "cell_type": "code",
   "execution_count": 65,
   "metadata": {
    "collapsed": false
   },
   "outputs": [
    {
     "data": {
      "text/plain": [
       "LinregressResult(slope=1.5410258060945865, intercept=0.36547102119024721, rvalue=0.88188656047383718, pvalue=1.4139947626816191e-22, stderr=0.10298016395963035)"
      ]
     },
     "execution_count": 65,
     "metadata": {},
     "output_type": "execute_result"
    }
   ],
   "source": [
    "from scipy.stats import linregress\n",
    "linregress(random_walk_parameters['mu'], random_walk_parameters['K'])"
   ]
  },
  {
   "cell_type": "code",
   "execution_count": 31,
   "metadata": {
    "collapsed": false
   },
   "outputs": [
    {
     "data": {
      "text/plain": [
       "['combustion_combo3_passcar_air_piston_and_turbine_engine_w_per_$',\n",
       " '_11.14.2013.xlsx']"
      ]
     },
     "execution_count": 31,
     "metadata": {},
     "output_type": "execute_result"
    }
   ],
   "source": [
    "files[0].split('_v1')[0]"
   ]
  },
  {
   "cell_type": "code",
   "execution_count": 16,
   "metadata": {
    "collapsed": false
   },
   "outputs": [
    {
     "name": "stdout",
     "output_type": "stream",
     "text": [
      "    Year    w/$\n",
      "0   1896  0.001\n",
      "1   1902  0.005\n",
      "2   1903  0.008\n",
      "3   1914  0.015\n",
      "4   1915  0.018\n",
      "5   1916  0.018\n",
      "6   1917  0.020\n",
      "7   1918  0.021\n",
      "8   1919  0.005\n",
      "9   1922  0.059\n",
      "10  1925  0.076\n",
      "11  1927  0.016\n",
      "12  1931  0.220\n",
      "13  1931  0.024\n",
      "14  1932  0.202\n",
      "15  1933  0.242\n",
      "16  1933  0.019\n",
      "17  1934  0.246\n",
      "18  1935  0.246\n",
      "19  1935  0.022\n",
      "20  1936  0.236\n",
      "21  1937  0.250\n",
      "22  1937  0.030\n",
      "23  1938  0.321\n",
      "24  1939  0.206\n",
      "25  1939  0.020\n",
      "26  1940  0.199\n",
      "27  1940  0.028\n",
      "28  1941  0.207\n",
      "29  1941  0.020\n",
      "..   ...    ...\n",
      "49  1961  0.276\n",
      "50  1963  0.016\n",
      "51  1965  0.016\n",
      "52  1967  0.007\n",
      "53  1970  0.464\n",
      "54  1971  0.473\n",
      "55  1972  0.340\n",
      "56  1973  0.318\n",
      "57  1973  0.011\n",
      "58  1975  0.220\n",
      "59  1977  0.211\n",
      "60  1978  0.233\n",
      "61  1979  0.224\n",
      "62  1979  0.016\n",
      "63  1980  0.183\n",
      "64  1981  0.185\n",
      "65  1982  0.206\n",
      "66  1984  0.235\n",
      "67  1985  0.253\n",
      "68  1986  0.271\n",
      "69  1987  0.319\n",
      "70  1990  0.314\n",
      "71  1990  0.027\n",
      "72  1991  0.364\n",
      "73  1993  0.363\n",
      "74  1994  0.366\n",
      "75  1996  0.028\n",
      "76  1998  0.050\n",
      "77  1999  0.050\n",
      "78  2002  0.008\n",
      "\n",
      "[79 rows x 2 columns]\n",
      "    Year           CPS\n",
      "0   1943  5.618042e+02\n",
      "1   1946  2.652421e+03\n",
      "2   1949  7.683908e+04\n",
      "3   1953  1.013191e+03\n",
      "4   1951  4.402548e+04\n",
      "5   1953  3.150214e+03\n",
      "6   1953  1.171573e+05\n",
      "7   1957  1.030768e+06\n",
      "8   1961  4.256000e+05\n",
      "9   1963  3.507011e+06\n",
      "10  1963  1.188324e+07\n",
      "11  1967  1.421396e+08\n",
      "12  1974  1.964346e+08\n",
      "13  1976  4.552898e+07\n",
      "14  1980  5.002577e+07\n",
      "15  1981  1.342196e+08\n",
      "16  1990  1.414042e+09\n",
      "17  1990  1.276437e+09\n",
      "18  1992  1.652137e+09\n",
      "19  1994  8.747860e+09\n",
      "20  1996  2.067236e+10\n",
      "21  1997  4.845307e+10\n",
      "22  1998  9.840213e+10\n",
      "23  1999  2.090506e+11\n",
      "24  2001  5.631864e+11\n",
      "25  2002  8.683614e+12\n",
      "26  2002  1.000000e+15\n",
      "27  2005  1.143761e+12\n",
      "28  2007  1.722610e+12\n",
      "    Year  Spectral Efficiency (bps/Hz)\n",
      "0   1901                      0.000001\n",
      "1   1946                      0.000702\n",
      "2   1962                      0.002340\n",
      "3   1979                      0.012000\n",
      "4   1981                      0.048000\n",
      "5   1983                      0.320000\n",
      "6   1985                      0.260000\n",
      "7   1985                      0.320000\n",
      "8   1986                      0.100000\n",
      "9   1986                      0.640000\n",
      "10  1990                      0.640000\n",
      "11  1990                      1.300000\n",
      "12  1991                      0.380000\n",
      "13  1993                      1.620000\n",
      "14  1993                      0.448000\n",
      "15  1995                      0.190000\n",
      "16  1995                      1.150000\n",
      "17  1996                      2.560000\n",
      "18  1998                      2.160000\n",
      "19  1998                      1.040000\n",
      "20  1999                      0.580000\n",
      "21  1999                      0.500000\n",
      "22  1999                      3.250000\n",
      "23  1999                      3.250000\n",
      "24  2001                      0.860000\n",
      "25  2001                      0.500000\n",
      "26  2002                      1.600000\n",
      "27  2003                      2.370000\n",
      "28  2003                      0.500000\n",
      "29  2003                      3.250000\n",
      "30  2004                      1.920000\n",
      "31  2005                      3.590000\n",
      "32  2006                      2.480000\n",
      "33  2006                      3.680000\n",
      "34  2006                      3.500000\n",
      "35  2006                      1.500000\n",
      "36  2007                      1.250000\n",
      "37  2007                      3.500000\n",
      "38  2007                     10.940000\n",
      "39  2009                     15.000000\n",
      "40  2008                      5.000000\n",
      "41  2009                     14.400000\n",
      "    Year  W/Liter\n",
      "0   1890    40.64\n",
      "1   1904    54.18\n",
      "2   1906    81.27\n",
      "3   1914   108.36\n",
      "4   1917   100.23\n",
      "5   1929   162.54\n",
      "6   1940   216.72\n",
      "7   1955   270.91\n",
      "8   1960   325.09\n",
      "9   1965   541.81\n",
      "10  1970   541.81\n",
      "11  1975   541.81\n",
      "12  1980   541.81\n",
      "13  1985   541.81\n",
      "14  1990   541.81\n",
      "15  1995   541.81\n",
      "    Year  W∙Km/$, Powered distance per cost\n",
      "0   1962                              806.0\n",
      "1   1967                              862.9\n",
      "2   1973                             1715.7\n",
      "3   1977                             1842.5\n",
      "4   1977                              772.5\n",
      "5   1977                             1852.1\n",
      "6   1978                             1797.6\n",
      "7   1982                              586.0\n",
      "8   1985                              890.9\n",
      "9   1985                              383.2\n",
      "10  1986                              201.5\n",
      "11  1986                              201.5\n",
      "12  1987                              554.2\n",
      "13  1987                              642.8\n",
      "14  1987                              478.3\n",
      "15  1987                             1065.3\n",
      "16  1989                              876.0\n",
      "17  1992                             1545.9\n",
      "18  1994                             1409.5\n",
      "19  2000                              442.9\n",
      "    Year    W/$\n",
      "0   1896  0.001\n",
      "1   1902  0.005\n",
      "2   1903  0.008\n",
      "3   1914  0.015\n",
      "4   1915  0.018\n",
      "5   1916  0.018\n",
      "6   1917  0.020\n",
      "7   1918  0.021\n",
      "8   1922  0.059\n",
      "9   1925  0.076\n",
      "10  1931  0.220\n",
      "11  1932  0.202\n",
      "12  1933  0.242\n",
      "13  1934  0.246\n",
      "14  1935  0.246\n",
      "15  1936  0.236\n",
      "16  1937  0.250\n",
      "17  1938  0.321\n",
      "18  1939  0.206\n",
      "19  1940  0.199\n",
      "20  1941  0.207\n",
      "21  1946  0.162\n",
      "22  1947  0.165\n",
      "23  1948  0.152\n",
      "24  1949  0.154\n",
      "25  1950  0.161\n",
      "26  1951  0.159\n",
      "27  1952  0.160\n",
      "28  1953  0.161\n",
      "29  1954  0.180\n",
      "30  1955  0.228\n",
      "31  1956  0.268\n",
      "32  1957  0.289\n",
      "33  1958  0.320\n",
      "34  1959  0.307\n",
      "35  1960  0.294\n",
      "36  1961  0.276\n",
      "37  1970  0.464\n",
      "38  1971  0.473\n",
      "39  1972  0.340\n",
      "40  1973  0.318\n",
      "41  1975  0.220\n",
      "42  1977  0.211\n",
      "43  1978  0.233\n",
      "44  1979  0.224\n",
      "45  1980  0.183\n",
      "46  1981  0.185\n",
      "47  1982  0.206\n",
      "48  1984  0.235\n",
      "49  1985  0.253\n",
      "50  1986  0.271\n",
      "51  1987  0.319\n",
      "52  1990  0.314\n",
      "53  1991  0.364\n",
      "54  1993  0.363\n",
      "55  1994  0.366\n",
      "    Year    deg K\n",
      "0   1911    4.154\n",
      "1   1913    7.196\n",
      "2   1932   11.500\n",
      "3   1941   16.100\n",
      "4   1953   17.100\n",
      "5   1954   18.050\n",
      "6   1967   20.700\n",
      "7   1973   23.200\n",
      "8   1986   30.000\n",
      "9   1987   93.000\n",
      "10  1988  105.000\n",
      "11  1988  120.000\n",
      "12  1993  133.000\n",
      "13  1994  164.000\n",
      "14  1995  138.000\n",
      "    Year     w/kg\n",
      "0   1919   249.00\n",
      "1   1922   624.00\n",
      "2   1925   354.00\n",
      "3   1926   390.00\n",
      "4   1927  1040.00\n",
      "5   1928   549.00\n",
      "6   1930   638.00\n",
      "7   1931   962.00\n",
      "8   1933  1143.00\n",
      "9   1934  1350.00\n",
      "10  1935  1122.00\n",
      "11  1936  1320.00\n",
      "12  1937  1535.00\n",
      "13  1938  1097.00\n",
      "14  1939  1527.00\n",
      "15  1940  1418.00\n",
      "16  1941  1633.00\n",
      "17  1942  1562.00\n",
      "18  1943  1596.00\n",
      "19  1944  1598.00\n",
      "20  1945  1717.00\n",
      "21  1963  3616.71\n",
      "22  1965  3534.51\n",
      "23  1967  3863.30\n",
      "24  1971  4356.49\n",
      "25  1973  4520.89\n",
      "26  1974  4931.88\n",
      "27  1976  4438.69\n",
      "28  1978  4520.89\n",
      "29  1979  4603.09\n",
      "30  1980  4767.48\n",
      "31  1982  5425.07\n",
      "32  1983  5507.26\n",
      "33  1984  4438.69\n",
      "34  1986  5589.46\n",
      "35  1987  5836.06\n",
      "36  1990  5425.07\n",
      "37  1996  3170.49\n",
      "38  1996  4266.47\n",
      "39  1998  4870.08\n",
      "40  1999  4334.86\n",
      "41  2002  7629.86\n"
     ]
    },
    {
     "ename": "XLRDError",
     "evalue": "Unsupported format, or corrupt file: Expected BOF record; found b'{}'",
     "output_type": "error",
     "traceback": [
      "\u001b[1;31m---------------------------------------------------------------------------\u001b[0m",
      "\u001b[1;31mXLRDError\u001b[0m                                 Traceback (most recent call last)",
      "\u001b[1;32m<ipython-input-16-2caee05255f2>\u001b[0m in \u001b[0;36m<module>\u001b[1;34m()\u001b[0m\n\u001b[0;32m      2\u001b[0m \u001b[0mfiles\u001b[0m \u001b[1;33m=\u001b[0m \u001b[0mlistdir\u001b[0m\u001b[1;33m(\u001b[0m\u001b[1;34m'Rates_11.18.13_PRM/'\u001b[0m\u001b[1;33m)\u001b[0m\u001b[1;33m\u001b[0m\u001b[0m\n\u001b[0;32m      3\u001b[0m \u001b[1;32mfor\u001b[0m \u001b[0mf\u001b[0m \u001b[1;32min\u001b[0m \u001b[0mfiles\u001b[0m\u001b[1;33m:\u001b[0m\u001b[1;33m\u001b[0m\u001b[0m\n\u001b[1;32m----> 4\u001b[1;33m     \u001b[0mf\u001b[0m \u001b[1;33m=\u001b[0m \u001b[0mpd\u001b[0m\u001b[1;33m.\u001b[0m\u001b[0mread_excel\u001b[0m\u001b[1;33m(\u001b[0m\u001b[1;34m'Rates_11.18.13_PRM/'\u001b[0m\u001b[1;33m+\u001b[0m\u001b[0mf\u001b[0m\u001b[1;33m,\u001b[0m\u001b[0msheetname\u001b[0m\u001b[1;33m=\u001b[0m\u001b[1;34m'rawdata'\u001b[0m\u001b[1;33m)\u001b[0m\u001b[1;33m\u001b[0m\u001b[0m\n\u001b[0m\u001b[0;32m      5\u001b[0m     \u001b[0mprint\u001b[0m\u001b[1;33m(\u001b[0m\u001b[0mf\u001b[0m\u001b[1;33m)\u001b[0m\u001b[1;33m\u001b[0m\u001b[0m\n",
      "\u001b[1;32m/home/jeffrey_alstott/anaconda3/lib/python3.4/site-packages/pandas/io/excel.py\u001b[0m in \u001b[0;36mread_excel\u001b[1;34m(io, sheetname, header, skiprows, skip_footer, index_col, parse_cols, parse_dates, date_parser, na_values, thousands, convert_float, has_index_names, converters, engine, **kwds)\u001b[0m\n\u001b[0;32m    161\u001b[0m \u001b[1;33m\u001b[0m\u001b[0m\n\u001b[0;32m    162\u001b[0m     \u001b[1;32mif\u001b[0m \u001b[1;32mnot\u001b[0m \u001b[0misinstance\u001b[0m\u001b[1;33m(\u001b[0m\u001b[0mio\u001b[0m\u001b[1;33m,\u001b[0m \u001b[0mExcelFile\u001b[0m\u001b[1;33m)\u001b[0m\u001b[1;33m:\u001b[0m\u001b[1;33m\u001b[0m\u001b[0m\n\u001b[1;32m--> 163\u001b[1;33m         \u001b[0mio\u001b[0m \u001b[1;33m=\u001b[0m \u001b[0mExcelFile\u001b[0m\u001b[1;33m(\u001b[0m\u001b[0mio\u001b[0m\u001b[1;33m,\u001b[0m \u001b[0mengine\u001b[0m\u001b[1;33m=\u001b[0m\u001b[0mengine\u001b[0m\u001b[1;33m)\u001b[0m\u001b[1;33m\u001b[0m\u001b[0m\n\u001b[0m\u001b[0;32m    164\u001b[0m \u001b[1;33m\u001b[0m\u001b[0m\n\u001b[0;32m    165\u001b[0m     return io._parse_excel(\n",
      "\u001b[1;32m/home/jeffrey_alstott/anaconda3/lib/python3.4/site-packages/pandas/io/excel.py\u001b[0m in \u001b[0;36m__init__\u001b[1;34m(self, io, **kwds)\u001b[0m\n\u001b[0;32m    204\u001b[0m                 \u001b[0mself\u001b[0m\u001b[1;33m.\u001b[0m\u001b[0mbook\u001b[0m \u001b[1;33m=\u001b[0m \u001b[0mxlrd\u001b[0m\u001b[1;33m.\u001b[0m\u001b[0mopen_workbook\u001b[0m\u001b[1;33m(\u001b[0m\u001b[0mfile_contents\u001b[0m\u001b[1;33m=\u001b[0m\u001b[0mdata\u001b[0m\u001b[1;33m)\u001b[0m\u001b[1;33m\u001b[0m\u001b[0m\n\u001b[0;32m    205\u001b[0m             \u001b[1;32melse\u001b[0m\u001b[1;33m:\u001b[0m\u001b[1;33m\u001b[0m\u001b[0m\n\u001b[1;32m--> 206\u001b[1;33m                 \u001b[0mself\u001b[0m\u001b[1;33m.\u001b[0m\u001b[0mbook\u001b[0m \u001b[1;33m=\u001b[0m \u001b[0mxlrd\u001b[0m\u001b[1;33m.\u001b[0m\u001b[0mopen_workbook\u001b[0m\u001b[1;33m(\u001b[0m\u001b[0mio\u001b[0m\u001b[1;33m)\u001b[0m\u001b[1;33m\u001b[0m\u001b[0m\n\u001b[0m\u001b[0;32m    207\u001b[0m         \u001b[1;32melif\u001b[0m \u001b[0mengine\u001b[0m \u001b[1;33m==\u001b[0m \u001b[1;34m'xlrd'\u001b[0m \u001b[1;32mand\u001b[0m \u001b[0misinstance\u001b[0m\u001b[1;33m(\u001b[0m\u001b[0mio\u001b[0m\u001b[1;33m,\u001b[0m \u001b[0mxlrd\u001b[0m\u001b[1;33m.\u001b[0m\u001b[0mBook\u001b[0m\u001b[1;33m)\u001b[0m\u001b[1;33m:\u001b[0m\u001b[1;33m\u001b[0m\u001b[0m\n\u001b[0;32m    208\u001b[0m             \u001b[0mself\u001b[0m\u001b[1;33m.\u001b[0m\u001b[0mbook\u001b[0m \u001b[1;33m=\u001b[0m \u001b[0mio\u001b[0m\u001b[1;33m\u001b[0m\u001b[0m\n",
      "\u001b[1;32m/home/jeffrey_alstott/anaconda3/lib/python3.4/site-packages/xlrd/__init__.py\u001b[0m in \u001b[0;36mopen_workbook\u001b[1;34m(filename, logfile, verbosity, use_mmap, file_contents, encoding_override, formatting_info, on_demand, ragged_rows)\u001b[0m\n\u001b[0;32m    439\u001b[0m         \u001b[0mformatting_info\u001b[0m\u001b[1;33m=\u001b[0m\u001b[0mformatting_info\u001b[0m\u001b[1;33m,\u001b[0m\u001b[1;33m\u001b[0m\u001b[0m\n\u001b[0;32m    440\u001b[0m         \u001b[0mon_demand\u001b[0m\u001b[1;33m=\u001b[0m\u001b[0mon_demand\u001b[0m\u001b[1;33m,\u001b[0m\u001b[1;33m\u001b[0m\u001b[0m\n\u001b[1;32m--> 441\u001b[1;33m         \u001b[0mragged_rows\u001b[0m\u001b[1;33m=\u001b[0m\u001b[0mragged_rows\u001b[0m\u001b[1;33m,\u001b[0m\u001b[1;33m\u001b[0m\u001b[0m\n\u001b[0m\u001b[0;32m    442\u001b[0m         )\n\u001b[0;32m    443\u001b[0m     \u001b[1;32mreturn\u001b[0m \u001b[0mbk\u001b[0m\u001b[1;33m\u001b[0m\u001b[0m\n",
      "\u001b[1;32m/home/jeffrey_alstott/anaconda3/lib/python3.4/site-packages/xlrd/book.py\u001b[0m in \u001b[0;36mopen_workbook_xls\u001b[1;34m(filename, logfile, verbosity, use_mmap, file_contents, encoding_override, formatting_info, on_demand, ragged_rows)\u001b[0m\n\u001b[0;32m     89\u001b[0m         \u001b[0mt1\u001b[0m \u001b[1;33m=\u001b[0m \u001b[0mtime\u001b[0m\u001b[1;33m.\u001b[0m\u001b[0mclock\u001b[0m\u001b[1;33m(\u001b[0m\u001b[1;33m)\u001b[0m\u001b[1;33m\u001b[0m\u001b[0m\n\u001b[0;32m     90\u001b[0m         \u001b[0mbk\u001b[0m\u001b[1;33m.\u001b[0m\u001b[0mload_time_stage_1\u001b[0m \u001b[1;33m=\u001b[0m \u001b[0mt1\u001b[0m \u001b[1;33m-\u001b[0m \u001b[0mt0\u001b[0m\u001b[1;33m\u001b[0m\u001b[0m\n\u001b[1;32m---> 91\u001b[1;33m         \u001b[0mbiff_version\u001b[0m \u001b[1;33m=\u001b[0m \u001b[0mbk\u001b[0m\u001b[1;33m.\u001b[0m\u001b[0mgetbof\u001b[0m\u001b[1;33m(\u001b[0m\u001b[0mXL_WORKBOOK_GLOBALS\u001b[0m\u001b[1;33m)\u001b[0m\u001b[1;33m\u001b[0m\u001b[0m\n\u001b[0m\u001b[0;32m     92\u001b[0m         \u001b[1;32mif\u001b[0m \u001b[1;32mnot\u001b[0m \u001b[0mbiff_version\u001b[0m\u001b[1;33m:\u001b[0m\u001b[1;33m\u001b[0m\u001b[0m\n\u001b[0;32m     93\u001b[0m             \u001b[1;32mraise\u001b[0m \u001b[0mXLRDError\u001b[0m\u001b[1;33m(\u001b[0m\u001b[1;34m\"Can't determine file's BIFF version\"\u001b[0m\u001b[1;33m)\u001b[0m\u001b[1;33m\u001b[0m\u001b[0m\n",
      "\u001b[1;32m/home/jeffrey_alstott/anaconda3/lib/python3.4/site-packages/xlrd/book.py\u001b[0m in \u001b[0;36mgetbof\u001b[1;34m(self, rqd_stream)\u001b[0m\n\u001b[0;32m   1228\u001b[0m             \u001b[0mbof_error\u001b[0m\u001b[1;33m(\u001b[0m\u001b[1;34m'Expected BOF record; met end of file'\u001b[0m\u001b[1;33m)\u001b[0m\u001b[1;33m\u001b[0m\u001b[0m\n\u001b[0;32m   1229\u001b[0m         \u001b[1;32mif\u001b[0m \u001b[0mopcode\u001b[0m \u001b[1;32mnot\u001b[0m \u001b[1;32min\u001b[0m \u001b[0mbofcodes\u001b[0m\u001b[1;33m:\u001b[0m\u001b[1;33m\u001b[0m\u001b[0m\n\u001b[1;32m-> 1230\u001b[1;33m             \u001b[0mbof_error\u001b[0m\u001b[1;33m(\u001b[0m\u001b[1;34m'Expected BOF record; found %r'\u001b[0m \u001b[1;33m%\u001b[0m \u001b[0mself\u001b[0m\u001b[1;33m.\u001b[0m\u001b[0mmem\u001b[0m\u001b[1;33m[\u001b[0m\u001b[0msavpos\u001b[0m\u001b[1;33m:\u001b[0m\u001b[0msavpos\u001b[0m\u001b[1;33m+\u001b[0m\u001b[1;36m8\u001b[0m\u001b[1;33m]\u001b[0m\u001b[1;33m)\u001b[0m\u001b[1;33m\u001b[0m\u001b[0m\n\u001b[0m\u001b[0;32m   1231\u001b[0m         \u001b[0mlength\u001b[0m \u001b[1;33m=\u001b[0m \u001b[0mself\u001b[0m\u001b[1;33m.\u001b[0m\u001b[0mget2bytes\u001b[0m\u001b[1;33m(\u001b[0m\u001b[1;33m)\u001b[0m\u001b[1;33m\u001b[0m\u001b[0m\n\u001b[0;32m   1232\u001b[0m         \u001b[1;32mif\u001b[0m \u001b[0mlength\u001b[0m \u001b[1;33m==\u001b[0m \u001b[0mMY_EOF\u001b[0m\u001b[1;33m:\u001b[0m\u001b[1;33m\u001b[0m\u001b[0m\n",
      "\u001b[1;32m/home/jeffrey_alstott/anaconda3/lib/python3.4/site-packages/xlrd/book.py\u001b[0m in \u001b[0;36mbof_error\u001b[1;34m(msg)\u001b[0m\n\u001b[0;32m   1222\u001b[0m         \u001b[1;32mif\u001b[0m \u001b[0mDEBUG\u001b[0m\u001b[1;33m:\u001b[0m \u001b[0mprint\u001b[0m\u001b[1;33m(\u001b[0m\u001b[1;34m\"reqd: 0x%04x\"\u001b[0m \u001b[1;33m%\u001b[0m \u001b[0mrqd_stream\u001b[0m\u001b[1;33m,\u001b[0m \u001b[0mfile\u001b[0m\u001b[1;33m=\u001b[0m\u001b[0mself\u001b[0m\u001b[1;33m.\u001b[0m\u001b[0mlogfile\u001b[0m\u001b[1;33m)\u001b[0m\u001b[1;33m\u001b[0m\u001b[0m\n\u001b[0;32m   1223\u001b[0m         \u001b[1;32mdef\u001b[0m \u001b[0mbof_error\u001b[0m\u001b[1;33m(\u001b[0m\u001b[0mmsg\u001b[0m\u001b[1;33m)\u001b[0m\u001b[1;33m:\u001b[0m\u001b[1;33m\u001b[0m\u001b[0m\n\u001b[1;32m-> 1224\u001b[1;33m             \u001b[1;32mraise\u001b[0m \u001b[0mXLRDError\u001b[0m\u001b[1;33m(\u001b[0m\u001b[1;34m'Unsupported format, or corrupt file: '\u001b[0m \u001b[1;33m+\u001b[0m \u001b[0mmsg\u001b[0m\u001b[1;33m)\u001b[0m\u001b[1;33m\u001b[0m\u001b[0m\n\u001b[0m\u001b[0;32m   1225\u001b[0m         \u001b[0msavpos\u001b[0m \u001b[1;33m=\u001b[0m \u001b[0mself\u001b[0m\u001b[1;33m.\u001b[0m\u001b[0m_position\u001b[0m\u001b[1;33m\u001b[0m\u001b[0m\n\u001b[0;32m   1226\u001b[0m         \u001b[0mopcode\u001b[0m \u001b[1;33m=\u001b[0m \u001b[0mself\u001b[0m\u001b[1;33m.\u001b[0m\u001b[0mget2bytes\u001b[0m\u001b[1;33m(\u001b[0m\u001b[1;33m)\u001b[0m\u001b[1;33m\u001b[0m\u001b[0m\n",
      "\u001b[1;31mXLRDError\u001b[0m: Unsupported format, or corrupt file: Expected BOF record; found b'{}'"
     ]
    }
   ],
   "source": [
    "from os import listdir\n",
    "files = listdir('Rates_11.18.13_PRM/')\n",
    "for f in files:\n",
    "    f = pd.read_excel('Rates_11.18.13_PRM/'+f,sheetname='rawdata',index_col=0)\n",
    "    print(f)"
   ]
  }
 ],
 "metadata": {
  "kernelspec": {
   "display_name": "Python 3",
   "language": "python",
   "name": "python3"
  },
  "language_info": {
   "codemirror_mode": {
    "name": "ipython",
    "version": 3
   },
   "file_extension": ".py",
   "mimetype": "text/x-python",
   "name": "python",
   "nbconvert_exporter": "python",
   "pygments_lexer": "ipython3",
   "version": "3.4.3"
  }
 },
 "nbformat": 4,
 "nbformat_minor": 0
}
